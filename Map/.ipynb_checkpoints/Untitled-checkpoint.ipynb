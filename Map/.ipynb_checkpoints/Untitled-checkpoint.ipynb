{
 "cells": [
  {
   "cell_type": "code",
   "execution_count": 1,
   "metadata": {},
   "outputs": [],
   "source": [
    "temperatures=[10,-20,-289,100]\n",
    "\n",
    "def writer(temperatures, filepath):\n",
    "    with open(filepath, 'w') as file:\n",
    "        for c in temperatures:\n",
    "            if c>-273.15:\n",
    "                f=c*9/5+32\n",
    "                file.write(str(f)+\"\\n\")\n",
    "\n",
    "writer(temperatures, \"tempsz.txt\")"
   ]
  },
  {
   "cell_type": "code",
   "execution_count": null,
   "metadata": {},
   "outputs": [],
   "source": []
  }
 ],
 "metadata": {
  "kernelspec": {
   "display_name": "Python 3",
   "language": "python",
   "name": "python3"
  },
  "language_info": {
   "codemirror_mode": {
    "name": "ipython",
    "version": 3
   },
   "file_extension": ".py",
   "mimetype": "text/x-python",
   "name": "python",
   "nbconvert_exporter": "python",
   "pygments_lexer": "ipython3",
   "version": "3.6.4"
  }
 },
 "nbformat": 4,
 "nbformat_minor": 2
}
